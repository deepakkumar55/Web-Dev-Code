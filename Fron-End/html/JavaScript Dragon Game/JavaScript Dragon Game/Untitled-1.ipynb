{
 "cells": [
  {
   "cell_type": "code",
   "execution_count": null,
   "metadata": {},
   "outputs": [],
   "source": [
    "def test_login_page(browser):\r\n",
    "    browser.get('https://www.instagram.com/accounts/login/')\r\n",
    "    username_input = browser.find_element_by_css_selector(\"input[name='username']\")\r\n",
    "    password_input = browser.find_element_by_css_selector(\"input[name='password']\")\r\n",
    "    username_input.send_keys(\"<your username>\")\r\n",
    "    password_input.send_keys(\"<your password>\")\r\n",
    "    login_button = browser.find_element_by_xpath(\"//button[@type='submit']\")\r\n",
    "    login_button.click()\r\n",
    "\r\n",
    "    errors = browser.find_elements_by_css_selector('#error_message')\r\n",
    "    assert len(errors) == 0\r\n",
    "\r\n",
    "\r\n",
    "\r\n",
    "    "
   ]
  }
 ],
 "metadata": {
  "interpreter": {
   "hash": "e922dd073470bdcc017ae3abd31d6491d6ed7bf31c1d559806e5511bfea88b81"
  },
  "kernelspec": {
   "display_name": "Python 3.9.5 64-bit",
   "name": "python3"
  },
  "language_info": {
   "name": "python",
   "version": ""
  },
  "orig_nbformat": 4
 },
 "nbformat": 4,
 "nbformat_minor": 2
}